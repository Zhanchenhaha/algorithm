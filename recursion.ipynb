{
 "cells": [
  {
   "cell_type": "code",
   "execution_count": 1,
   "metadata": {
    "collapsed": true
   },
   "outputs": [],
   "source": [
    "def greet(name):\n",
    "    print (\"hello,\" + name + \"!\")\n",
    "    greet2(name)\n",
    "    print (\"getting ready to say bye...\")\n",
    "    bye()\n",
    "\n",
    "def greet2(name):\n",
    "    print (\"how are you, \" + name + \"?\")\n",
    "\n",
    "def bye():\n",
    "    print (\"ok bye!\")"
   ]
  },
  {
   "cell_type": "code",
   "execution_count": null,
   "outputs": [],
   "source": [
    "def fact(x):\n",
    "    if x ==  1:\n",
    "        return 1\n",
    "    else:\n",
    "        return x * fact(x-1)\n"
   ],
   "metadata": {
    "collapsed": false,
    "pycharm": {
     "name": "#%%\n"
    }
   }
  }
 ],
 "metadata": {
  "kernelspec": {
   "display_name": "Python 3",
   "language": "python",
   "name": "python3"
  },
  "language_info": {
   "codemirror_mode": {
    "name": "ipython",
    "version": 2
   },
   "file_extension": ".py",
   "mimetype": "text/x-python",
   "name": "python",
   "nbconvert_exporter": "python",
   "pygments_lexer": "ipython2",
   "version": "2.7.6"
  }
 },
 "nbformat": 4,
 "nbformat_minor": 0
}